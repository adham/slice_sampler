{
 "cells": [
  {
   "cell_type": "code",
   "execution_count": null,
   "metadata": {
    "collapsed": true
   },
   "outputs": [],
   "source": [
    "# import necesarry packages\n",
    "\n",
    "import numpy as np\n",
    "import scipy.stats as ss\n",
    "from time import time\n",
    "\n",
    "import matplotlib.pyplot as plt\n",
    "import matplotlib.mlab as mlab\n",
    "%matplotlib inline\n",
    "\n",
    "import seaborn as sns\n",
    "sns.set()"
   ]
  },
  {
   "cell_type": "markdown",
   "metadata": {},
   "source": [
    "## Slice Sampling\n",
    "\n",
    "### Idea\n",
    "\n",
    "The single variable slice sampling method replaces the current value,$x_0$, with a new variable $x_1$, found by a three step procesdure as follows:\n",
    "\n",
    "1. Draw $y\\sim\\text{Uniform}\\left(0,f\\left(x_{0}\\right)\\right)$ to define the horizontal slice $S=\\left\\{ x:y<f\\left(x\\right)\\right\\}$. Note that $x_0$ is always within $S$.\n",
    "2. Find the interval $I=\\left(L, R\\right)$ around $x_0$ that contains at least a big part of the slice.\n",
    "3. Draw the new point $x_1$ from the part of the slice within the interval which is $S\\cap I$.\n",
    "\n",
    "### Finding the appropriate interval\n",
    "The interval in step 2 $I=\\left(L, R\\right)$ needs to contain as much of the slice as feasible to allow the new point to differ as much as possible from the previous point. But on the other hand, we don't want it to be much larger than the slice, because it will results to less efrficient sampling. We usually use an estimation $w$ for the scale of $S$ and randomly pick an initial interval of wise $w$ around $x_0$ and then expand it. if it is stepping out it is enouhj to be in the \n",
    "if it is doubling it should ne checked.\n",
    "\n",
    "### sampling from the interval\n"
   ]
  },
  {
   "cell_type": "code",
   "execution_count": null,
   "metadata": {
    "collapsed": true
   },
   "outputs": [],
   "source": [
    "def I_stepping_out(f, x0, w=1, m=1000):\n",
    "    \"\"\"\n",
    "    stepping out procedure for finding an appropriate interval around\n",
    "    the current point    \n",
    "    \"\"\"\n",
    "    \n",
    "    y0 = f(x0)\n",
    "    y = np.random.uniform(0, y0)\n",
    "    U = np.random.uniform(0, 1)\n",
    "    L = x0 - U*w\n",
    "    R = L + w\n",
    "\n",
    "    V = np.random.uniform(0, 1)\n",
    "    J = np.floor(m*V)\n",
    "    K = (m-1) - J\n",
    "\n",
    "    while J>0 and y<f(L):\n",
    "        L = L - w\n",
    "        J = J - 1\n",
    "    while K>0 and y<f(R):\n",
    "        R = R + w\n",
    "        K = K - 1   \n",
    "        \n",
    "    return L, R, y\n",
    "\n",
    "def I_doubling(f, x0, w=1, p=20):\n",
    "    \"\"\"\n",
    "    doubling procedure for finding an appropriate interval around \n",
    "    the current point\n",
    "    \"\"\"\n",
    "\n",
    "    y0 = f(x0)\n",
    "    y = np.random.uniform(0, y0)\n",
    "    U = np.random.uniform(0, 1)\n",
    "    L = x0 - w*U\n",
    "    R = L + w\n",
    "    K = p\n",
    "\n",
    "    while K>0 and (y<f(L) or y<f(R)):\n",
    "        V = np.random.uniform(0, 1)\n",
    "        if V<0.5:\n",
    "            L = L - (R - L)\n",
    "        else:\n",
    "            R = R + (R - L)\n",
    "        K = K - 1\n",
    "        \n",
    "    return L, R, y\n",
    "\n",
    "def accept_doubling(f, x0, x1, y, w, L, R):\n",
    "    \"\"\"\n",
    "    checks if the proposal is acceptable or not\n",
    "    \"\"\"\n",
    "    D = False\n",
    "    while (R - L) > 1.1*w:\n",
    "        M = (R + L) / 2\n",
    "        if (x0<M and x1>=M) or (x0>=M and x1<M):\n",
    "            D = True\n",
    "        if x1 < M:\n",
    "            R = M\n",
    "        else:\n",
    "            L = M\n",
    "        if D and y>=f(L) and y>=f(R):\n",
    "            return False\n",
    "    return True  \n",
    "\n",
    "def slice_sampler_stepping_out(f, n_samples, x0, w, m):\n",
    "    \n",
    "    samples = np.zeros(n_samples)\n",
    "    for i in xrange(n_samples):\n",
    "        while(True):\n",
    "            L, R, y = I_stepping_out(f, x0, w, m)\n",
    "            x1 = np.random.uniform(L, R)\n",
    "\n",
    "            if f(x1) > y:\n",
    "                break\n",
    "            if x1 < x0:\n",
    "                L = x1\n",
    "            else:\n",
    "                R = x1\n",
    "        x0 = x1\n",
    "        samples[i] = x0\n",
    "    \n",
    "    return samples\n",
    "\n",
    "\n",
    "def slice_sampler_doubling(f, n_samples, x0, w, p):\n",
    "    \n",
    "    samples = np.zeros(n_samples)\n",
    "    \n",
    "    for i in xrange(n_samples):\n",
    "        while(True):\n",
    "            L, R, y = I_doubling(f, x0, w, p)\n",
    "            x1 = np.random.uniform(L, R)\n",
    "\n",
    "            if f(x1) > y and accept_doubling(f, x0, x1, y, w, L, R):\n",
    "                break\n",
    "            if x1 < x0:\n",
    "                L = x1\n",
    "            else:\n",
    "                R = x1\n",
    "        x0 = x1\n",
    "        samples[i] = x0\n",
    "    return samples\n",
    "\n",
    "def slice_sampler(f, n_samples, x0, w, doubling=True, m=50, p=20):\n",
    "    if doubling:\n",
    "        return slice_sampler_doubling(f, n_samples, x0, w, p)\n",
    "    else:\n",
    "        return slice_sampler_stepping_out(f, n_samples, x0, w, m)"
   ]
  },
  {
   "cell_type": "code",
   "execution_count": null,
   "metadata": {
    "collapsed": false
   },
   "outputs": [],
   "source": [
    "# Plotting the interval I \n",
    "\n",
    "f = ss.norm.pdf\n",
    "x0 = 1\n",
    "w = 0.5\n",
    "m = 100\n",
    "p = 50\n",
    "\n",
    "L1, R1, y1 = I_stepping_out(f, x0, w, m)\n",
    "L2, R2, y2 = I_doubling(f, x0, w, p)\n",
    "\n",
    "\n",
    "X = np.linspace(-4, 4, 100)\n",
    "\n",
    "fig, axes = plt.subplots(nrows=1, ncols=2, figsize=(10, 5))\n",
    "axes[0].plot(X, f(X))\n",
    "axes[1].plot(X, f(X))\n",
    "\n",
    "axes[0].hlines(y1, L1, R1, lw=2)\n",
    "axes[0].plot(x0, y1, 'o', label='x0')\n",
    "axes[1].hlines(y2, L2, R2, lw=2)\n",
    "axes[1].plot(x0, y2, 'o', label='x0')\n",
    "\n",
    "axes[0].set_title(\"stepping out procedure, w={}, m={}\".format(w, m))\n",
    "axes[1].set_title(\"doubling procedure, w={}, p={}\".format(w, p))\n",
    "axes[0].legend()\n",
    "axes[1].legend()"
   ]
  },
  {
   "cell_type": "markdown",
   "metadata": {},
   "source": [
    "### Unimodal densities"
   ]
  },
  {
   "cell_type": "code",
   "execution_count": null,
   "metadata": {
    "collapsed": true
   },
   "outputs": [],
   "source": [
    "f = ss.norm.pdf\n",
    "\n",
    "n_samples = 1000\n",
    "x0 = 0\n",
    "w = 0.5\n",
    "m = 50\n",
    "p = 20\n",
    "\n",
    "samples1 = slice_sampler(f, n_samples, x0, w=w, m=m, doubling=False)    # stepping out\n",
    "samples2 = slice_sampler(f, n_samples, x0, w=w, p=p, doubling=True)     # doubling"
   ]
  },
  {
   "cell_type": "code",
   "execution_count": null,
   "metadata": {
    "collapsed": false
   },
   "outputs": [],
   "source": [
    "# visualization\n",
    "X = np.linspace(-5, 5, 100)\n",
    "fig, axes = plt.subplots(nrows=1, ncols=2, figsize=(10, 5))\n",
    "axes[0].hist(samples1, bins=20, normed=True)\n",
    "axes[0].plot(X, f(X))\n",
    "axes[0].set_title(\"stepping out technique, w={}, n_samples={}\".format(w, n_samples))\n",
    "axes[1].hist(samples2, bins=20, normed=True)\n",
    "axes[1].plot(X, f(X))\n",
    "axes[1].set_title(\"doubling technique, w={}, n_samples={}\".format(w, n_samples))"
   ]
  },
  {
   "cell_type": "markdown",
   "metadata": {},
   "source": [
    "# Multimodal densities"
   ]
  },
  {
   "cell_type": "code",
   "execution_count": null,
   "metadata": {
    "collapsed": true
   },
   "outputs": [],
   "source": [
    "mu1 = 3\n",
    "mu2 = 10\n",
    "sigma1 = 1\n",
    "sigma2 = 2\n",
    "m1 = 0.2\n",
    "m2 = 0.8\n",
    "\n",
    "f = lambda x: m1 * ss.norm.pdf(x, mu1, sigma1) + m2 * ss.norm.pdf(x, mu2, sigma2)"
   ]
  },
  {
   "cell_type": "code",
   "execution_count": null,
   "metadata": {
    "collapsed": false
   },
   "outputs": [],
   "source": [
    "# Plotting the interval I \n",
    "\n",
    "x0 = 1\n",
    "w = 0.5\n",
    "m = 500\n",
    "p = 50\n",
    "\n",
    "L1, R1, y1 = I_stepping_out(f, x0, w, m)\n",
    "L2, R2, y2 = I_doubling(f, x0, w, p)\n",
    "\n",
    "X = np.linspace(-5, 20, 100)\n",
    "\n",
    "fig, axes = plt.subplots(nrows=1, ncols=2, figsize=(10, 5))\n",
    "axes[0].plot(X, f(X))\n",
    "axes[1].plot(X, f(X))\n",
    "\n",
    "axes[0].hlines(y1, L1, R1, lw=2)\n",
    "axes[0].plot(x0, y1, 'o', label='x0')\n",
    "axes[1].hlines(y2, L2, R2, lw=2)\n",
    "axes[1].plot(x0, y2, 'o', label='x0')\n",
    "\n",
    "axes[0].set_title(\"stepping out procedure, w={}, m={}\".format(w, m))\n",
    "axes[1].set_title(\"doubling procedure, w={}, p={}\".format(w, p))\n",
    "axes[0].legend()\n",
    "axes[1].legend()"
   ]
  },
  {
   "cell_type": "code",
   "execution_count": null,
   "metadata": {
    "collapsed": false
   },
   "outputs": [],
   "source": [
    "n_samples = 1000\n",
    "x0 = 0\n",
    "w = 0.5\n",
    "m = 50\n",
    "p = 20\n",
    "\n",
    "samples1 = slice_sampler(f, n_samples, x0, w=w, m=m, doubling=False)    # stepping out\n",
    "samples2 = slice_sampler(f, n_samples, x0, w=w, p=p, doubling=True)     # doubling\n",
    "\n",
    "# visualization\n",
    "X = np.linspace(-5, 20, 100)\n",
    "fig, axes = plt.subplots(nrows=1, ncols=2, figsize=(10, 5))\n",
    "axes[0].hist(samples1, bins=20, normed=True)\n",
    "axes[0].plot(X, f(X))\n",
    "axes[0].set_title(\"stepping out procedure, w={}, n_samples={}\".format(w, n_samples))\n",
    "axes[1].hist(samples2, bins=20, normed=True)\n",
    "axes[1].plot(X, f(X))\n",
    "axes[1].set_title(\"doubling technique, w={}, n_samples={}\".format(w, n_samples))"
   ]
  },
  {
   "cell_type": "markdown",
   "metadata": {},
   "source": [
    "What if the two Gaussians are further from each other? As the figures below show, stepping out method will probably not work."
   ]
  },
  {
   "cell_type": "code",
   "execution_count": null,
   "metadata": {
    "collapsed": false
   },
   "outputs": [],
   "source": [
    "mu1 = 0\n",
    "mu2 = 20\n",
    "sigma1 = 1\n",
    "sigma2 = 2\n",
    "m1 = 0.2\n",
    "m2 = 0.8\n",
    "\n",
    "f = lambda x: m1 * ss.norm.pdf(x, mu1, sigma1) + m2 * ss.norm.pdf(x, mu2, sigma2)\n",
    "\n",
    "\n",
    "# Plotting the interval I \n",
    "x0 = 0\n",
    "w = 0.5\n",
    "m = 50\n",
    "p = 50\n",
    "\n",
    "L1, R1, y1 = I_stepping_out(f, x0, w, m)\n",
    "L2, R2, y2 = I_doubling(f, x0, w, p)\n",
    "\n",
    "fig, axes = plt.subplots(nrows=1, ncols=2, figsize=(10, 5))\n",
    "\n",
    "X = np.linspace(-5, 30, 200)\n",
    "\n",
    "axes[0].plot(X, f(X))\n",
    "axes[1].plot(X, f(X))\n",
    "\n",
    "axes[0].hlines(y1, L1, R1, lw=2)\n",
    "axes[0].plot(x0, y1, 'o', label='x0')\n",
    "axes[1].hlines(y2, L2, R2, lw=2)\n",
    "axes[1].plot(x0, y2, 'o', label='x0')\n",
    "\n",
    "axes[0].set_title(\"stepping out procedure, w={}, m={}\".format(w, m))\n",
    "axes[1].set_title(\"doubling procedure, w={}, p={}\".format(w, p))\n",
    "axes[0].legend()\n",
    "axes[1].legend()"
   ]
  },
  {
   "cell_type": "code",
   "execution_count": null,
   "metadata": {
    "collapsed": false
   },
   "outputs": [],
   "source": [
    "n_samples = 1000\n",
    "\n",
    "x0 = 0\n",
    "w = 0.5\n",
    "m = 50\n",
    "p = 20\n",
    "\n",
    "samples1 = slice_sampler(f, n_samples, x0, w=w, m=m, doubling=False)    # stepping out\n",
    "samples2 = slice_sampler(f, n_samples, x0, w=w, p=p, doubling=True)     # doubling\n",
    "    \n",
    "# visualization\n",
    "X = np.linspace(-5, 30, 100)\n",
    "fig, axes = plt.subplots(nrows=1, ncols=2, figsize=(10, 5))\n",
    "axes[0].hist(samples1, bins=20, normed=True)\n",
    "axes[0].plot(X, f(X))\n",
    "axes[0].set_title(\"stepping out procedure, w={}, n_samples={}\".format(w, n_samples))\n",
    "axes[1].hist(samples2, bins=20, normed=True)\n",
    "axes[1].plot(X, f(X))\n",
    "axes[1].set_title(\"doubling technique, w={}, n_samples={}\".format(w, n_samples))"
   ]
  },
  {
   "cell_type": "markdown",
   "metadata": {},
   "source": [
    "Can we get it right by tweaking $w$?"
   ]
  },
  {
   "cell_type": "code",
   "execution_count": null,
   "metadata": {
    "collapsed": false
   },
   "outputs": [],
   "source": [
    "mu1 = 0\n",
    "mu2 = 20\n",
    "sigma1 = 1\n",
    "sigma2 = 2\n",
    "m1 = 0.2\n",
    "m2 = 0.8\n",
    "\n",
    "f = lambda x: m1 * ss.norm.pdf(x, mu1, sigma1) + m2 * ss.norm.pdf(x, mu2, sigma2)\n",
    "\n",
    "# Plotting the interval I \n",
    "x0 = 2\n",
    "w1 = 50\n",
    "w2 = 1.0\n",
    "m = 50\n",
    "p = 50\n",
    "\n",
    "L1, R1, y1 = I_stepping_out(f, x0, w1, m)\n",
    "L2, R2, y2 = I_doubling(f, x0, w2, p)\n",
    "\n",
    "fig, axes = plt.subplots(nrows=1, ncols=2, figsize=(10, 5))\n",
    "\n",
    "X = np.linspace(-5, 30, 200)\n",
    "\n",
    "axes[0].plot(X, f(X))\n",
    "axes[1].plot(X, f(X))\n",
    "\n",
    "axes[0].hlines(y1, L1, R1, lw=2)\n",
    "axes[0].plot(x0, y1, 'o', label='x0')\n",
    "axes[1].hlines(y2, L2, R2, lw=2)\n",
    "axes[1].plot(x0, y2, 'o', label='x0')\n",
    "\n",
    "axes[0].set_title(\"stepping out procedure, w={}, m={}\".format(w1, m))\n",
    "axes[1].set_title(\"doubling procedure, w={}, p={}\".format(w2, p))\n",
    "axes[0].legend()\n",
    "axes[1].legend()"
   ]
  },
  {
   "cell_type": "code",
   "execution_count": null,
   "metadata": {
    "collapsed": false,
    "scrolled": true
   },
   "outputs": [],
   "source": [
    "n_samples = 1000\n",
    "\n",
    "x0 = 0\n",
    "w1 = 50\n",
    "w2 = 0.5\n",
    "m = 50\n",
    "p = 20\n",
    "\n",
    "samples1 = slice_sampler(f, n_samples, x0, w=w1, m=m, doubling=False)    # stepping out\n",
    "samples2 = slice_sampler(f, n_samples, x0, w=w2, p=p, doubling=True)     # doubling\n",
    "    \n",
    "# visualization\n",
    "X = np.linspace(-5, 30, 100)\n",
    "fig, axes = plt.subplots(nrows=1, ncols=2, figsize=(10, 5))\n",
    "axes[0].hist(samples1, bins=20, normed=True)\n",
    "axes[0].plot(X, f(X))\n",
    "axes[0].set_title(\"stepping out procedure, w={}, n_samples={}\".format(w1, n_samples))\n",
    "axes[1].hist(samples2, bins=20, normed=True)\n",
    "axes[1].plot(X, f(X))\n",
    "axes[1].set_title(\"doubling technique, w={}, n_samples={}\".format(w2, n_samples))"
   ]
  },
  {
   "cell_type": "markdown",
   "metadata": {},
   "source": [
    "### <span style=\"color:red\">So the question is: How can we choose an appropriate value for w (and also other parameters m, p)?</span>"
   ]
  },
  {
   "cell_type": "markdown",
   "metadata": {
    "collapsed": false
   },
   "source": [
    "### Multidimensional densities"
   ]
  },
  {
   "cell_type": "markdown",
   "metadata": {},
   "source": [
    "Use a slice sampler to sample froma 2D Gaussian."
   ]
  },
  {
   "cell_type": "code",
   "execution_count": 5,
   "metadata": {
    "collapsed": false
   },
   "outputs": [
    {
     "data": {
      "text/plain": [
       "<matplotlib.contour.QuadContourSet instance at 0x000000001A911108>"
      ]
     },
     "execution_count": 5,
     "metadata": {},
     "output_type": "execute_result"
    },
    {
     "data": {
      "image/png": "[encoded data removed]",
      "text/plain": [
       "<matplotlib.figure.Figure at 0x1a4c8390>"
      ]
     },
     "metadata": {},
     "output_type": "display_data"
    }
   ],
   "source": [
    "mu = [1, 5]\n",
    "cov = [[2, 0.5], [0.5, 1]]\n",
    "samples = np.random.multivariate_normal(mu, cov, size=10000)\n",
    "\n",
    "x = np.linspace(-4, 6, 100)\n",
    "y = np.linspace(0, 8, 100)\n",
    "X, Y = np.meshgrid(x, y)\n",
    "Z = mlab.bivariate_normal(X, Y, 2, 1, 1, 5, 0.5)\n",
    "\n",
    "fig, ax = plt.subplots()\n",
    "ax.hist2d(samples[:, 0], samples[:, 1], bins=100)\n",
    "ax.contour(X, Y, Z)"
   ]
  },
  {
   "cell_type": "markdown",
   "metadata": {},
   "source": [
    "### Single variable slice sampling"
   ]
  },
  {
   "cell_type": "code",
   "execution_count": null,
   "metadata": {
    "collapsed": true
   },
   "outputs": [],
   "source": [
    "f = ss.multivariate_normal(mu, cov).pdf"
   ]
  },
  {
   "cell_type": "code",
   "execution_count": null,
   "metadata": {
    "collapsed": true
   },
   "outputs": [],
   "source": [
    "x0 = 1\n",
    "y0 = 1\n",
    "\n",
    "n_samples = 10000\n",
    "samples = np.zeros((n_samples, 2))\n",
    "w = 0.5\n",
    "p = 20\n",
    "\n",
    "for i in xrange(n_samples):\n",
    "\n",
    "    # sampling x\n",
    "    fx = lambda x: f((x, y0))\n",
    "    x1 = slice_sampler(fx, 1, x0, w, p=p, doubling=True)\n",
    "    x0 = x1[0]\n",
    "    samples[i, 0] = x0\n",
    "    \n",
    "    # sampling y\n",
    "    fy = lambda y: f((x0, y))\n",
    "    y1 = slice_sampler(fy, 1, y0, w, p=p, doubling=True)\n",
    "    y0 = y1[0]\n",
    "    samples[i, 1] = y0    \n",
    "    \n",
    "# do ther same for stepping out as well    "
   ]
  },
  {
   "cell_type": "code",
   "execution_count": null,
   "metadata": {
    "collapsed": false
   },
   "outputs": [],
   "source": [
    "#Visualization\n",
    "fig, ax = plt.subplots()\n",
    "ax.hist2d(samples[:, 0], samples[:, 1], bins=100)\n",
    "ax.contour(X, Y, Z)\n",
    "ax.set_title(\"slice sampling result, n_samples={}\".format(n_samples))"
   ]
  },
  {
   "cell_type": "markdown",
   "metadata": {},
   "source": [
    "### Hyperrectangle"
   ]
  },
  {
   "cell_type": "code",
   "execution_count": 1,
   "metadata": {
    "collapsed": true
   },
   "outputs": [],
   "source": [
    "from slice_sampler import *"
   ]
  },
  {
   "cell_type": "code",
   "execution_count": 2,
   "metadata": {
    "collapsed": true
   },
   "outputs": [],
   "source": [
    "import numpy as np\n",
    "import scipy.stats as ss\n",
    "\n",
    "import matplotlib.pyplot as plt\n",
    "import matplotlib.mlab as mlab\n",
    "%matplotlib inline\n",
    "\n",
    "import seaborn as sns\n",
    "sns.set()"
   ]
  },
  {
   "cell_type": "code",
   "execution_count": 10,
   "metadata": {
    "collapsed": false
   },
   "outputs": [
    {
     "data": {
      "text/plain": [
       "<matplotlib.contour.QuadContourSet instance at 0x000000001F316508>"
      ]
     },
     "execution_count": 10,
     "metadata": {},
     "output_type": "execute_result"
    },
    {
     "data": {
      "image/png": "[encoded data removed]",
      "text/plain": [
       "<matplotlib.figure.Figure at 0x1a4b3ac8>"
      ]
     },
     "metadata": {},
     "output_type": "display_data"
    }
   ],
   "source": [
    "mu = [1, 5]\n",
    "cov = [[2, 0.5], [0.5, 1]]\n",
    "f = ss.multivariate_normal(mu, cov).pdf\n",
    "\n",
    "x0 = [0, 0]\n",
    "w = 1\n",
    "m = 50\n",
    "n_samples = 10000\n",
    "\n",
    "\n",
    "samples1 = slice_sampler_stepping_out1(f, n_samples, x0, w, m)\n",
    "samples2 = slice_sampler_stepping_out2(f, n_samples, x0, w, m)\n",
    "\n",
    "#Visualization\n",
    "fig, axes = plt.subplots(nrows=1, ncols=2, figsize=(10, 5))\n",
    "\n",
    "axes[0].hist2d(samples1[:, 0], samples1[:, 1], bins=100)\n",
    "axes[0].contour(X, Y, Z)\n",
    "axes[1].hist2d(samples2[:, 0], samples2[:, 1], bins=100)\n",
    "axes[1].contour(X, Y, Z)"
   ]
  },
  {
   "cell_type": "code",
   "execution_count": 9,
   "metadata": {
    "collapsed": true
   },
   "outputs": [],
   "source": [
    "def slice_sampler_stepping_out1(f, n_samples, x0, w, m):\n",
    "    np.random.seed(100)\n",
    "    \n",
    "    n_dims = len(x0)\n",
    "    samples = np.zeros([n_samples, n_dims])\n",
    "    \n",
    "    for i in xrange(n_samples):    \n",
    "        while True:\n",
    "            L, R, y = I_stepping_out1(f, x0, w, m)\n",
    "            x1 = np.random.uniform(L, R)\n",
    "\n",
    "            if f(x1) > y:\n",
    "                break\n",
    "\n",
    "            mask = x1<x0\n",
    "            L[mask] = x1[mask]\n",
    "            mask = x1>x0\n",
    "            R[mask] = x1[mask]\n",
    "        x0 = x1\n",
    "        samples[i] = x0\n",
    "    return samples\n",
    "\n",
    "def slice_sampler_stepping_out2(f, n_samples, x0, w, m):\n",
    "    np.random.seed(100)\n",
    "\n",
    "    \n",
    "    n_dims = len(x0)\n",
    "    samples = np.zeros([n_samples, n_dims])\n",
    "    \n",
    "    for i in xrange(n_samples):    \n",
    "        while True:\n",
    "            L, R, y = I_stepping_out2(f, x0, w, m)\n",
    "            x1 = np.random.uniform(L, R)\n",
    "\n",
    "            if f(x1) > y:\n",
    "                break\n",
    "\n",
    "            mask = x1<x0\n",
    "            L[mask] = x1[mask]\n",
    "            mask = x1>x0\n",
    "            R[mask] = x1[mask]\n",
    "        x0 = x1\n",
    "        samples[i] = x0\n",
    "    return samples"
   ]
  },
  {
   "cell_type": "code",
   "execution_count": 6,
   "metadata": {
    "collapsed": false
   },
   "outputs": [
    {
     "data": {
      "text/plain": [
       "<matplotlib.text.Text at 0x1abcb080>"
      ]
     },
     "execution_count": 6,
     "metadata": {},
     "output_type": "execute_result"
    },
    {
     "data": {
      "image/png": "[encoded data removed]",
      "text/plain": [
       "<matplotlib.figure.Figure at 0x1a224b00>"
      ]
     },
     "metadata": {},
     "output_type": "display_data"
    }
   ],
   "source": [
    "#Visualization\n",
    "fig, ax = plt.subplots()\n",
    "ax.hist2d(samples[:, 0], samples[:, 1], bins=100)\n",
    "ax.contour(X, Y, Z)\n",
    "ax.set_title(\"slice sampling result, n_samples={}\".format(n_samples))"
   ]
  },
  {
   "cell_type": "markdown",
   "metadata": {},
   "source": [
    "Suppose we have a two-dimensional density and we want to estimate it by slice sampling. \n",
    "\n",
    "$$ f(x, y) =  \\frac{1}{C} e^{-\\frac{(x^2 \\,y^2+x^2+y^2-8x-8y)}{2}} $$\n",
    "m\n",
    "One way to solve this problem is deriving $p(x \\mid y)$ and $p(y \\mid x)$ (similar to Gibbs sampling) and then sample each dimension separatly.\n",
    "\n",
    "$$ p(x \\mid y) = g(y) e^{-\\left(x-\\frac{4}{(1+y^2)}\\right)^{2}\\frac{(1+y^2)}{2}} $$\n",
    "\n",
    "$$ p(y \\mid x) = g(x) e^{-\\left(y-\\frac{4}{(1+x^2)}\\right)^{2}\\frac{(1+x^2)}{2}} $$"
   ]
  }
 ],
 "metadata": {
  "kernelspec": {
   "display_name": "Python 2",
   "language": "python",
   "name": "python2"
  },
  "language_info": {
   "codemirror_mode": {
    "name": "ipython",
    "version": 2
   },
   "file_extension": ".py",
   "mimetype": "text/x-python",
   "name": "python",
   "nbconvert_exporter": "python",
   "pygments_lexer": "ipython2",
   "version": "2.7.7"
  }
 },
 "nbformat": 4,
 "nbformat_minor": 0
}
